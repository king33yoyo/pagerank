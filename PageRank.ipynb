{
 "cells": [
  {
   "cell_type": "markdown",
   "metadata": {},
   "source": [
    "# PageRank算法"
   ]
  },
  {
   "cell_type": "markdown",
   "metadata": {},
   "source": [
    "**如果一个网页被很多其他网页链接到的话说明这个网页比较重要，也就是PageRank值会相对较高**\n",
    "\n",
    "**如果一个PageRank值很高的网页链接到一个其他的网页，那么被链接到的网页的PageRank值会相应地因此而提高**"
   ]
  },
  {
   "cell_type": "markdown",
   "metadata": {},
   "source": [
    "### 公式"
   ]
  },
  {
   "cell_type": "markdown",
   "metadata": {},
   "source": [
    "$$Pr = \\alpha \\cdot S \\cdot p+\\frac{1 - \\alpha}{ N }$$"
   ]
  },
  {
   "cell_type": "markdown",
   "metadata": {},
   "source": [
    "#### 其中 $\\alpha$ 表示用户点击网页跳转链接的概率，$1-\\alpha$ 表示用户通过地址栏跳转网页的概率。S表示的是网页之间的链接状态矩阵，p为网页的pr值矩阵，通过迭代，最终收敛。N为网页总数。"
   ]
  },
  {
   "cell_type": "code",
   "execution_count": 98,
   "metadata": {},
   "outputs": [
    {
     "name": "stdout",
     "output_type": "stream",
     "text": [
      "pr(1) = [0.08249313]\n",
      "pr(2) = [0.10586618]\n",
      "pr(3) = [0.70586571]\n",
      "pr(4) = [0.10586618]\n"
     ]
    }
   ],
   "source": [
    "import numpy as np\n",
    "\n",
    "\n",
    "def pagerank(S, d=0.85, r=0.0001):\n",
    "\n",
    "    N = S.shape[0]\n",
    "    e = np.ones((N, 1))\n",
    "    p0 = 1./N * e #初始化网页的pr值，一般为1/N\n",
    "    p1 = e\n",
    "    while np.sum(np.abs(p1-p0)) > r:\n",
    "        p0, p1 = p1, d * np.dot(S, p0) + (1.-d)/N * e\n",
    "    return N, p1\n",
    "\n",
    "S = np.array([[0,1./2,0,0],\n",
    "            [1./3,0,0,1./2],\n",
    "            [1./3,0,1,1./2],\n",
    "            [1./3,1./2,0,0]])\n",
    "\n",
    "N, p = pagerank(S)\n",
    "\n",
    "for i in range(N):\n",
    "    print(\"pr({0}) = {1}\".format(i+1, p[i]))"
   ]
  },
  {
   "cell_type": "markdown",
   "metadata": {},
   "source": [
    "### 验证"
   ]
  },
  {
   "cell_type": "code",
   "execution_count": 6,
   "metadata": {},
   "outputs": [],
   "source": [
    "import networkx as nx\n",
    "import matplotlib.pyplot as plt"
   ]
  },
  {
   "cell_type": "code",
   "execution_count": 7,
   "metadata": {},
   "outputs": [],
   "source": [
    "%matplotlib inline"
   ]
  },
  {
   "cell_type": "code",
   "execution_count": 28,
   "metadata": {},
   "outputs": [],
   "source": [
    "G = nx.DiGraph()"
   ]
  },
  {
   "cell_type": "code",
   "execution_count": 74,
   "metadata": {},
   "outputs": [],
   "source": [
    "G.add_node(1)\n",
    "G.add_node(2)\n",
    "G.add_node(3)\n",
    "G.add_node(4)"
   ]
  },
  {
   "cell_type": "code",
   "execution_count": 75,
   "metadata": {},
   "outputs": [
    {
     "data": {
      "text/plain": [
       "OutEdgeView([(1, 2), (1, 3), (1, 4), (2, 1), (2, 4), (3, 3), (4, 2), (4, 3)])"
      ]
     },
     "execution_count": 75,
     "metadata": {},
     "output_type": "execute_result"
    }
   ],
   "source": [
    "G.add_edges_from([(1,2),(1,3),(1,4)])\n",
    "G.add_edges_from([(2,1),(2,4)])\n",
    "G.add_edge(3,3)\n",
    "G.add_edges_from([(4,2),(4,3)])\n",
    "G.edges()"
   ]
  },
  {
   "cell_type": "code",
   "execution_count": 88,
   "metadata": {},
   "outputs": [
    {
     "data": {
      "image/png": "[encoded data removed]",
      "text/plain": [
       "<Figure size 432x288 with 1 Axes>"
      ]
     },
     "metadata": {},
     "output_type": "display_data"
    }
   ],
   "source": [
    "nx.draw(G,with_labels = True )"
   ]
  },
  {
   "cell_type": "code",
   "execution_count": 95,
   "metadata": {},
   "outputs": [],
   "source": [
    "pr = nx.pagerank(G)"
   ]
  },
  {
   "cell_type": "code",
   "execution_count": 96,
   "metadata": {},
   "outputs": [
    {
     "data": {
      "text/plain": [
       "{1: 0.08249385196501903,\n",
       " 2: 0.10586723648212554,\n",
       " 3: 0.7057716750707297,\n",
       " 4: 0.10586723648212554}"
      ]
     },
     "execution_count": 96,
     "metadata": {},
     "output_type": "execute_result"
    }
   ],
   "source": [
    "pr"
   ]
  },
  {
   "cell_type": "markdown",
   "metadata": {},
   "source": [
    "### GOOGLE数据测试"
   ]
  },
  {
   "cell_type": "markdown",
   "metadata": {},
   "source": [
    "数据集拥有875713个节点和5105039条边。形式如下所示："
   ]
  },
  {
   "cell_type": "raw",
   "metadata": {},
   "source": [
    "0\t11342\n",
    "0\t824020\n",
    "0\t867923\n",
    "0\t891835\n",
    "11342\t0\n",
    "11342\t27469\n",
    "11342\t38716\n",
    "11342\t309564\n",
    "11342\t322178\n",
    "11342\t387543\n",
    "11342\t427436\n",
    "11342\t538214\n",
    "11342\t638706\n",
    "11342\t645018\n",
    "11342\t835220\n",
    "11342\t856657\n",
    "11342\t867923\n",
    "11342\t891835\n",
    "824020\t0\n",
    "824020\t91807\n",
    "824020\t322178\n",
    "824020\t387543\n",
    "824020\t417728\n",
    "824020\t438493\n",
    "824020\t500627\n",
    "824020\t535748\n",
    "824020\t695578\n",
    "824020\t867923\n",
    "824020\t891835"
   ]
  },
  {
   "cell_type": "markdown",
   "metadata": {},
   "source": [
    "### 代码"
   ]
  },
  {
   "cell_type": "code",
   "execution_count": null,
   "metadata": {},
   "outputs": [],
   "source": [
    "from time import time\n",
    "import networkx as nx\n",
    "\n",
    "\n",
    "begin = time()\n",
    "e = []\n",
    "with open('D:\\WorkSpace\\Python\\web-Google.txt') as f:\n",
    "    for line in f:\n",
    "        o = tuple(line.split())\n",
    "        e.append(o)\n",
    "\n",
    "A = nx.DiGraph()\n",
    "A.add_edges_from(e) #将数据集转换为权值图\n",
    "p = nx.pagerank_scipy(A)\n",
    "\n",
    "end = time()\n",
    "\n",
    "count = 0\n",
    "for key in p:\n",
    "    if count < 10:\n",
    "        print('p[{0}] = {1}'.format(key, p[key]))\n",
    "        count += 1\n",
    "    else:\n",
    "        break\n",
    "        \n",
    "print(\"time = {0}\".format(end - begin))"
   ]
  },
  {
   "cell_type": "markdown",
   "metadata": {},
   "source": [
    "结果如图所示，取前十个结果。"
   ]
  },
  {
   "cell_type": "raw",
   "metadata": {},
   "source": [
    "p[0] = 2.7819912652138442e-05\n",
    "p[11342] = 3.109709290478732e-05\n",
    "p[824020] = 6.99821687995793e-06\n",
    "p[867923] = 3.122557250697715e-05\n",
    "p[891835] = 3.0402793851758616e-05\n",
    "p[27469] = 5.355357999418938e-06\n",
    "p[38716] = 1.1330042452174905e-05\n",
    "p[309564] = 3.0147209663648787e-06\n",
    "p[322178] = 2.6386574274350027e-06\n",
    "p[387543] = 2.6386574274350027e-06\n",
    "time = 39.96000003814697"
   ]
  },
  {
   "cell_type": "raw",
   "metadata": {},
   "source": []
  }
 ],
 "metadata": {
  "kernelspec": {
   "display_name": "Python 3",
   "language": "python",
   "name": "python3"
  },
  "language_info": {
   "codemirror_mode": {
    "name": "ipython",
    "version": 3
   },
   "file_extension": ".py",
   "mimetype": "text/x-python",
   "name": "python",
   "nbconvert_exporter": "python",
   "pygments_lexer": "ipython3",
   "version": "3.6.5"
  }
 },
 "nbformat": 4,
 "nbformat_minor": 2
}
